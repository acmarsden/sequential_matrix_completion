{
 "cells": [
  {
   "cell_type": "code",
   "execution_count": 29,
   "metadata": {
    "collapsed": false
   },
   "outputs": [],
   "source": [
    "import numpy as np\n",
    "import theano\n",
    "import theano.tensor as T\n",
    "import scipy.sparse as sp\n",
    "from theano import sparse\n",
    "import lasagne\n",
    "import time\n",
    "import scipy.stats as stats\n",
    "from collections import OrderedDict\n"
   ]
  },
  {
   "cell_type": "code",
   "execution_count": 30,
   "metadata": {
    "collapsed": false
   },
   "outputs": [],
   "source": [
    "# Generate a matrix from a multivariate normal distribution with low-rank covariance matrix\n",
    "KTRUE = 5\n",
    "K = 20\n",
    "N = 100\n",
    "D = 50\n",
    "#maxit = 2*KTRUE*(N+D-KTRUE)\n",
    "maxit = N*D\n",
    "\n",
    "np.random.seed(seed=10)\n",
    "\n",
    "#c0np = np.random.gamma(1,1)\n",
    "#gamma0np = np.random.gamma(1,1)\n",
    "#gammanp = np.random.gamma(1,1)\n",
    "#rnp = np.random.gamma(gamma0np/KTRUE, c0np, size=(KTRUE))\n",
    "#w = np.zeros((D,KTRUE))\n",
    "#for k in range(KTRUE):\n",
    "#    print(gammanp*rnp[k])\n",
    "#    print(gammanp)\n",
    "#    w[:,k] = np.random.gamma(gammanp*rnp[k]+1e-20, gammanp+1e-20, size = (D))\n",
    "    \n",
    "\n",
    "#w   = np.random.uniform(low=0.0, high=1.0, size=(D,KTRUE))\n",
    "#Introduce some complexity into w\n",
    "w     = np.random.beta(a = 2, b = 5, size = (D,KTRUE))\n",
    "#maskw = stats.bernoulli.rvs(0.8, size=(D,KTRUE))\n",
    "#w     = np.multiply(w,maskw)\n",
    "var = 0.1\n",
    "covnp = w.dot(w.T)+var*np.eye(D)\n",
    "\n",
    "Mnp = np.random.multivariate_normal(np.zeros(D), covnp, N).T"
   ]
  },
  {
   "cell_type": "code",
   "execution_count": 31,
   "metadata": {
    "collapsed": false
   },
   "outputs": [],
   "source": [
    "random_w_init = np.random.uniform(low=0.01, high=2.0, size=(D,K))\n",
    "random_r_init = np.random.uniform(low = 0.01, high = 2.0, size = K)"
   ]
  },
  {
   "cell_type": "code",
   "execution_count": 32,
   "metadata": {
    "collapsed": false
   },
   "outputs": [],
   "source": [
    "# We use Theano for our model\n",
    "srng = T.shared_randomstreams.RandomStreams(seed=120)\n",
    "\n",
    "#Define Theano Variables\n",
    "Shared = lambda shape,name: theano.shared(value = np.ones(shape,dtype=theano.config.floatX),\n",
    "                                          name=name,borrow=True) "
   ]
  },
  {
   "cell_type": "code",
   "execution_count": 33,
   "metadata": {
    "collapsed": false
   },
   "outputs": [],
   "source": [
    "# Let Ynp represent our matrix of partial, noisy observations\n",
    "#p = 0.03\n",
    "#p      = 2.5*(maxit/20)/(N*D)\n",
    "p = 1\n",
    "#Masknp = np.random.binomial(N, p, size=(N,D)).T\n",
    "Masknp = stats.bernoulli.rvs(p, size=(D,N))\n",
    "Mask   = T.as_tensor_variable(Masknp)\n",
    "M      = T.as_tensor_variable(Mnp)\n",
    "Y      = Mask*M\n",
    "zeroY  = T.as_tensor_variable(np.zeros((D,N)))\n",
    "zero2  = T.as_tensor_variable(np.zeros((D,D)))\n",
    "zero   = T.as_tensor_variable(np.zeros(D))\n",
    "st     = T.sum(T.neq(Y, zeroY), axis = 0)\n",
    "s      = st.eval()\n"
   ]
  },
  {
   "cell_type": "code",
   "execution_count": 34,
   "metadata": {
    "collapsed": false
   },
   "outputs": [
    {
     "data": {
      "text/plain": [
       "1"
      ]
     },
     "execution_count": 34,
     "metadata": {},
     "output_type": "execute_result"
    }
   ],
   "source": [
    "p"
   ]
  },
  {
   "cell_type": "code",
   "execution_count": 35,
   "metadata": {
    "collapsed": false
   },
   "outputs": [],
   "source": [
    "#Define variables \n",
    "W      = Shared((D,K), 'W')\n",
    "W.set_value(random_w_init)\n",
    "r      = Shared((K), 'r')\n",
    "r.set_value(random_r_init)\n",
    "Gamma  = Shared((1), 'Gamma')\n",
    "Gamma0 = Shared((1), 'Gamma0')\n",
    "c0     = Shared((1), 'c0')\n",
    "sigma  = Shared((1), 'sigma')\n",
    "\n",
    "t      = T.dscalar('t')\n",
    "\n",
    "#Define random variables for MVNscan component\n",
    "zY = srng.normal([D])\n",
    "zK = srng.normal([K])\n",
    "\n",
    "#For data given seqentially we need a different covariance matrix for each yn\n",
    "WWT=T.dot(W, W.T)\n",
    "Cov=Shared((D,D), 'Cov')\n",
    "Cov=WWT+sigma[0]*T.identity_like(WWT)\n",
    "#Cov = T.as_tensor_variable(covnp, name= 'Cov')\n",
    "\n",
    "#Define lists\n",
    "mParams = [W, r, Gamma, Gamma0, c0, sigma]\n",
    "\n",
    "#indexlist = Shared([maxit], 'indexlist')\n",
    "indexlist = theano.shared(value = np.zeros([maxit],dtype=np.int64),\n",
    "                                          name='indexlist',borrow=True)\n"
   ]
  },
  {
   "cell_type": "code",
   "execution_count": 36,
   "metadata": {
    "collapsed": false
   },
   "outputs": [],
   "source": [
    "#Define Functions for Langevin Step\n",
    "\n",
    "def logJointScanFn(n, logLikelihood, Y, Cov, s):\n",
    "    \n",
    "    idxs          = T.neq(Y[:,n], zero).nonzero()\n",
    "    y             = Y[:,n][idxs]\n",
    "    idxs2         = T.neq(T.outer(Y[:,n], Y[:,n]), zero2).nonzero()\n",
    "    littlecov     = Cov[idxs2].reshape((s[n], s[n]))\n",
    "    logLikelihood +=(-1/2.0)*T.log(T.nlinalg.Det()(littlecov))-(1/2.0)*T.dot(y.T, T.dot(T.nlinalg.MatrixInverse()(littlecov), y))\n",
    "    \n",
    "    return logLikelihood\n",
    "\n",
    "def LogJ(mParams, Y, Cov, s):\n",
    "\n",
    "    W, r, Gamma, Gamma0, c0, sigma = mParams\n",
    "    #LogJt0=time.clock()\n",
    "    results, updates = theano.scan(fn=logJointScanFn,\n",
    "                                   sequences = np.arange(N),\n",
    "                                   outputs_info=[dict(initial= np.float64(0) ,taps=[-1])],\n",
    "                                   non_sequences=[Y, Cov, s])\n",
    "    logJoint  = results[-1]\n",
    "    logJoint2 = ((D*Gamma*T.log(Gamma))[0]*r).sum()-(D*T.gammaln(Gamma[0]*r)).sum()+((Gamma[0]*r-1)*T.log(W)).sum()-(Gamma[0]*W).sum() + (Gamma0*T.log(c0)-K*T.gammaln(Gamma0/K)+(Gamma0/K-1)[0]*(T.log(r)).sum()-(c0[0]*r).sum()-Gamma-Gamma0-c0)[0]\n",
    "    logJoint  += logJoint2\n",
    "\n",
    "    return(logJoint)\n",
    "\n",
    "def LangevinUpdates(t,logJ,mParams):\n",
    "    grads = theano.grad(logJ, mParams)\n",
    "    updates=OrderedDict()\n",
    "    for param, grad in zip(mParams,grads):\n",
    "        #print(\"gradient\")\n",
    "        #print(grad.eval())\n",
    "        step=(np.power((t+1), -1/2.0))*grad\n",
    "        updates[param]=T.minimum(T.maximum((param+step).astype(theano.config.floatX), 0.00001*T.ones_like(param)), 1*T.ones_like(param))                                          \n",
    "    return updates\n",
    "\n",
    "def Projection(mParams):\n",
    "    updates=OrderedDict()\n",
    "    for param in zip(mParams):\n",
    "        updates[param]=T.minimum(T.maximum(param.astype(theano.config.floatX), (1e-10)*T.ones_like(param.astype(theano.config.floatX))), 10*T.ones_like(param.astype(theano.config.floatX)))                                          \n",
    "    return updates\n",
    "\n",
    "\n",
    "def Projection2(mParams):\n",
    "    grads = theano.grad(logJ, mParams)\n",
    "    updates=OrderedDict()\n",
    "    for param, grad in zip(mParams,grads):\n",
    "        #print(\"gradient\")\n",
    "        #print(grad.eval())\n",
    "        #step=0.001*(np.power((t+1), -1/2.0))*grad\n",
    "        updates[param]=T.minimum(T.maximum((param).astype(theano.config.floatX), 0.00001*T.ones_like(param)), 10*T.ones_like(param))                                          \n",
    "    return updates\n",
    "\n"
   ]
  },
  {
   "cell_type": "code",
   "execution_count": 37,
   "metadata": {
    "collapsed": true
   },
   "outputs": [],
   "source": [
    "Ytrue = Y.eval()"
   ]
  },
  {
   "cell_type": "code",
   "execution_count": 38,
   "metadata": {
    "collapsed": false
   },
   "outputs": [],
   "source": [
    "#Stochastic Gradient Descent\n",
    "\n",
    "counter = 1\n",
    "\n",
    "logJ = LogJ(mParams,Y,Cov, s)\n",
    "param_updates=LangevinUpdates(counter, logJ, mParams)\n",
    "LangevinStep=theano.function(inputs=[], updates=param_updates)\n",
    "ParamUpdates=lasagne.updates.adadelta(-logJ,mParams)\n",
    "AdaDeltaStep=theano.function(inputs=[], updates=ParamUpdates)\n",
    "\n",
    "param_projection = Projection2(mParams)\n",
    "ProjectionStep = theano.function(inputs=[], updates = param_projection)\n",
    "\n",
    "\n",
    "def SGD(Y, limit,construct_lj_list, construct_error_list):\n",
    "    counter = 1\n",
    "    logJ = LogJ(mParams,Y,Cov, s)\n",
    "    param_updates=LangevinUpdates(counter,logJ, mParams)\n",
    "    ParamUpdates=lasagne.updates.adadelta(-logJ,mParams)\n",
    "\n",
    "    \n",
    "    #%%time\n",
    "\n",
    "    ljlist = []\n",
    "    errorlist = []\n",
    "    keepUpdating = True\n",
    "    \n",
    "    if construct_lj_list==1:\n",
    "        \n",
    "        while keepUpdating:\n",
    "            \"\"\"\n",
    "            if counter % 100 ==0:\n",
    "                \n",
    "                print('sigma')\n",
    "                print(sigma.eval())\n",
    "                print('r')\n",
    "                print(r.eval())\n",
    "                print('w')\n",
    "                print(W[1,1].eval())\n",
    "            \"\"\"\n",
    "            #LangevinStep()\n",
    "            AdaDeltaStep()\n",
    "            ProjectionStep()\n",
    "            keepUpdating = False if counter>limit else True \n",
    "            \n",
    "            # if construct_elbo_list==1, estimate ELBO by Monte Carlo every 20 steps\n",
    "            if counter%20==0:\n",
    "                \n",
    "                ljlist.append(np.mean([logJ.eval() for i in range(40)]))\n",
    "                R = 10\n",
    "                \n",
    "                if construct_error_list:\n",
    "                    \n",
    "                    [y_estimate, sigma_u_o_scan, sigma_ob_inv_scan], updates=theano.scan(fn=MVNormalScan_beta02,\n",
    "                                              sequences=T.arange(N),\n",
    "                                              outputs_info=None,\n",
    "                                              non_sequences=[Y, Mask, Cov, W, zY, zK, st])\n",
    "                    Yest = y_estimate.eval().T\n",
    "                    errorlist.append(np.linalg.norm(Yest- Ytrue))  \n",
    "                    \n",
    "            counter +=1\n",
    "    else:\n",
    "        \n",
    "        while keepUpdating:\n",
    "            \n",
    "            #LangevinStep()\n",
    "            AdaDeltaStep()\n",
    "            ProjectionStep()\n",
    "            keepUpdating = False if counter>limit else True \n",
    "            counter += 1\n",
    "            \n",
    "    print(counter)\n",
    "    \n",
    "    return ljlist, errorlist\n",
    "\n",
    "\n",
    "def SGDfastscan(W, r, Gamma, Gamma0, c0, sigma):\n",
    "    mParams = [W, r, Gamma, Gamma0, c0, sigma]\n",
    "    ParamUpdates=lasagne.updates.adadelta(-logJ,mParams)\n",
    "    AdaDeltaStep()\n",
    "    ProjectionStep()\n",
    "    return W, r, Gamma, Gamma0, c0, sigma"
   ]
  },
  {
   "cell_type": "code",
   "execution_count": 39,
   "metadata": {
    "collapsed": false
   },
   "outputs": [],
   "source": [
    "#MVNormalScan constructs our estimate of the entire matrix using conditional multivariate normal\n",
    "\n",
    "def MVNormalScan_beta02(n, Y, Mask, Cov, W, zY, zK, s):\n",
    "    \n",
    "    #construct binaryY_unobs a vector of 1s and 0s where the ith coord is a 1 if we haven't seen the ith coord of y_n    \n",
    "    binaryY_unobs = T.eq(Y[:,n], zero)\n",
    "    #construct covariance of the observed entries where the rows/columns with nothing have a 1 on diag (so invertible)\n",
    "    idxs          = T.neq(Y[:,n], zero).nonzero()\n",
    "    y             = Y[:,n][idxs]\n",
    "    idxs2         = T.neq(T.outer(Y[:,n], Y[:,n]), zero2).nonzero()\n",
    "    littlecov     = Cov[idxs2].reshape((s[n], s[n]))\n",
    "    littlecov_inv = T.nlinalg.MatrixInverse()(littlecov)\n",
    "    \n",
    "    #sigma_observed     = T.outer(binaryY[:,n], binaryY[:,n])*Cov+(binaryY_unobs*T.identity_like(Cov))\n",
    "    sigma_unobs_obs         = (T.outer(binaryY_unobs, T.neq(Y[:,n], zero)))*Cov\n",
    "    idxs3                   = T.neq(sigma_unobs_obs, zero2).nonzero()\n",
    "    little_sigma_unobs_obs = sigma_unobs_obs[:,idxs].reshape((D, s[n])) \n",
    "    #sigma_observed_inv = T.nlinalg.MatrixInverse()(sigma_observed)\n",
    "    dummyY             = T.zeros(D)\n",
    "    \n",
    "    #draw the mean vector dummyY from N(0, WWT+sigma^2I) using computationally fast trick\n",
    "    dummy_results, dummy_updates= theano.scan(lambda prior_result, sigma, zY, W, zK: \n",
    "                                              T.sqrt(sigma)[0]*zY+T.dot(W,zK) + prior_result,\n",
    "                                              sequences=None,\n",
    "                                              outputs_info= T.zeros(D),\n",
    "                                              non_sequences=[sigma, zY, W, zK],\n",
    "                                              n_steps=R)\n",
    "    \n",
    "    dummyY       = dummy_results[-1]\n",
    "    dummyY       /= R\n",
    "    dummyY_obs   = dummyY[idxs]\n",
    "    dummyY_unobs = binaryY_unobs*dummyY\n",
    "    y_est        = dummyY_unobs + T.dot(T.dot(little_sigma_unobs_obs, littlecov_inv), (y-dummyY_obs))\n",
    "    y_est        = (y_est*binaryY_unobs)-(1e6)*Mask[:,n]\n",
    "    #y_est        = y_est*binaryY_unobs + Y[:,n]*Mask[:,n]\n",
    "    \n",
    "    return [y_est, sigma_unobs_obs, littlecov_inv]\n",
    "\n"
   ]
  },
  {
   "cell_type": "code",
   "execution_count": 40,
   "metadata": {
    "collapsed": false,
    "scrolled": false
   },
   "outputs": [
    {
     "name": "stdout",
     "output_type": "stream",
     "text": [
      "Populating the interactive namespace from numpy and matplotlib\n"
     ]
    },
    {
     "name": "stderr",
     "output_type": "stream",
     "text": [
      "WARNING: pylab import has clobbered these variables: ['var']\n",
      "`%matplotlib` prevents importing * from pylab and numpy\n"
     ]
    },
    {
     "name": "stdout",
     "output_type": "stream",
     "text": [
      "602\n"
     ]
    },
    {
     "data": {
      "image/png": "[encoded data removed]",
      "text/plain": [
       "<matplotlib.figure.Figure at 0x110375438>"
      ]
     },
     "metadata": {},
     "output_type": "display_data"
    }
   ],
   "source": [
    "#This serves to test how well, given whatever percent of data observed you set through variable \"p\", \n",
    "#we can estimate the covariance matrix\n",
    "% pylab inline\n",
    "import numpy as np\n",
    "import matplotlib.pyplot as plt\n",
    "\n",
    "R = 10\n",
    "[ljlist, errlist] = SGD(Y, 600, 1 ,0)\n",
    "\n",
    "\n",
    "plt.plot(ljlist)\n",
    "\n",
    "nameW = 'WK' + str(KTRUE) +'.csv'\n",
    "namer = 'rK' + str(KTRUE) + '.csv'\n",
    "namecov = 'truecovsdK' + str(KTRUE) + '.csv'\n",
    "np.savetxt(nameW,  W.eval(), delimiter = ',')\n",
    "np.savetxt(namer,  r.eval(), delimiter = ',')\n",
    "np.savetxt(namecov,  w.dot(w.T), delimiter = ',')"
   ]
  },
  {
   "cell_type": "code",
   "execution_count": 13,
   "metadata": {
    "collapsed": false
   },
   "outputs": [],
   "source": [
    "def MainBandit(count, indexlist, Mask, Y):\n",
    "    \n",
    "    limit = 1000\n",
    "    R     = 10\n",
    "    construct_lj_list = 0\n",
    "    construct_error_list = 0\n",
    "    \n",
    "    ljlist = SGD(Y, limit,construct_lj_list, construct_error_list)\n",
    "    \n",
    "    [y_estimate, sigma_u_o_scan, sigma_ob_inv_scan], updates=theano.scan(fn=MVNormalScan_beta02,\n",
    "                                              sequences=T.arange(N),\n",
    "                                              outputs_info=None,\n",
    "                                              non_sequences=[Y, Mask, Cov, W, zY, zK, st])\n",
    "\n",
    "    y_estimate     = y_estimate.T\n",
    "    [value, index] = T.max_and_argmax(y_estimate, axis=None, keepdims=False)   \n",
    "    mf             = T.flatten(Mask)\n",
    "    mf             = T.inc_subtensor(mf[index],1)\n",
    "    Mask           = mf.reshape((D,N))\n",
    "    \n",
    "    indexlist      = T.set_subtensor(indexlist[count], index)\n",
    "    \n",
    "      \n",
    "    return indexlist,Mask"
   ]
  },
  {
   "cell_type": "code",
   "execution_count": 14,
   "metadata": {
    "collapsed": true
   },
   "outputs": [],
   "source": [
    "def ind2sub(array_shape, ind):\n",
    "    #ind[ind < 0] = -1\n",
    "    #ind[ind >= array_shape[0]*array_shape[1]] = -1\n",
    "    rows = np.floor(ind / array_shape[1])\n",
    "    cols = ind % array_shape[1]\n",
    "    return (int(rows), int(cols))"
   ]
  },
  {
   "cell_type": "code",
   "execution_count": 15,
   "metadata": {
    "collapsed": false
   },
   "outputs": [
    {
     "name": "stdout",
     "output_type": "stream",
     "text": [
      "1002\n"
     ]
    }
   ],
   "source": [
    "count     = 0\n",
    "ratings   = []\n",
    "R         = 5\n",
    "\n",
    "[indices, Mask_evolve], updates = theano.scan(fn=MainBandit,\n",
    "                                               sequences = T.arange(maxit),\n",
    "                                               outputs_info = [indexlist,Mask],\n",
    "                                               non_sequences = Y)\n",
    "indexlistnp = indices[-1].eval()"
   ]
  },
  {
   "cell_type": "code",
   "execution_count": 16,
   "metadata": {
    "collapsed": false
   },
   "outputs": [],
   "source": [
    "ratings = []\n",
    "initial_obs = np.multiply([Masknp!=0], Mnp).flatten()\n",
    "ratings = initial_obs[initial_obs!=0].tolist()\n",
    "for i in range(np.size(indexlistnp)):\n",
    "    [r,c] = ind2sub(np.shape(Mnp), int(indexlistnp[i]))\n",
    "    ratings.append(Mnp[r,c])"
   ]
  },
  {
   "cell_type": "code",
   "execution_count": 17,
   "metadata": {
    "collapsed": true
   },
   "outputs": [],
   "source": [
    "reward = np.cumsum(ratings)"
   ]
  },
  {
   "cell_type": "code",
   "execution_count": 24,
   "metadata": {
    "collapsed": false
   },
   "outputs": [],
   "source": [
    "#best = Mnp + 0.00001\n",
    "#best[Masknp] = 1e-6\n",
    "#best = best.flatten()\n",
    "#(np.multiply(Mnp, (1e-6)*Masknp)).flatten()\n",
    "best = Mnp.flatten()\n",
    "best.sort()\n",
    "best[:] =  best[::-1]\n",
    "best = np.cumsum(best)\n",
    "\n",
    "random_reward = np.zeros(np.size(Mnp.flatten()))\n",
    "for i in range(10):\n",
    "    #random = Mnp + 0.00001\n",
    "    #random[Masknp] = 1e-6\n",
    "    #random =  random.flatten()\n",
    "    #random = (np.multiply(Mnp, (1e-6)*Masknp)).flatten()\n",
    "    random = Mnp.flatten()\n",
    "    random = np.random.permutation(random)\n",
    "    random_reward += np.cumsum(random)/10"
   ]
  },
  {
   "cell_type": "code",
   "execution_count": 25,
   "metadata": {
    "collapsed": false
   },
   "outputs": [
    {
     "name": "stdout",
     "output_type": "stream",
     "text": [
      "Populating the interactive namespace from numpy and matplotlib\n"
     ]
    },
    {
     "name": "stderr",
     "output_type": "stream",
     "text": [
      "WARNING: pylab import has clobbered these variables: ['random']\n",
      "`%matplotlib` prevents importing * from pylab and numpy\n"
     ]
    },
    {
     "data": {
      "text/plain": [
       "[<matplotlib.lines.Line2D at 0x110496e80>]"
      ]
     },
     "execution_count": 25,
     "metadata": {},
     "output_type": "execute_result"
    },
    {
     "data": {
      "image/png": "[encoded data removed]",
      "text/plain": [
       "<matplotlib.figure.Figure at 0x110360b38>"
      ]
     },
     "metadata": {},
     "output_type": "display_data"
    }
   ],
   "source": [
    "#PLOT ACCUMULATED REWARDS\n",
    "\n",
    "% pylab inline\n",
    "import numpy as np\n",
    "import matplotlib.pyplot as plt\n",
    "\n",
    "length        = np.minimum(np.size(reward), np.size(best))\n",
    "reward        = reward[0:length]\n",
    "best          = best[0:length]\n",
    "random_reward = random_reward[0:length]\n",
    "\n",
    "plt.plot(best)\n",
    "plt.plot(reward)\n",
    "plt.plot(random_reward)"
   ]
  },
  {
   "cell_type": "code",
   "execution_count": 26,
   "metadata": {
    "collapsed": false
   },
   "outputs": [
    {
     "data": {
      "text/plain": [
       "[<matplotlib.lines.Line2D at 0x110107860>]"
      ]
     },
     "execution_count": 26,
     "metadata": {},
     "output_type": "execute_result"
    },
    {
     "data": {
      "image/png": "[encoded data removed]",
      "text/plain": [
       "<matplotlib.figure.Figure at 0x1102a1a90>"
      ]
     },
     "metadata": {},
     "output_type": "display_data"
    }
   ],
   "source": [
    "#PLOT REGRET\n",
    "\n",
    "plt.plot(best-reward)\n",
    "plt.plot((best-random_reward))"
   ]
  },
  {
   "cell_type": "code",
   "execution_count": null,
   "metadata": {
    "collapsed": false
   },
   "outputs": [],
   "source": [
    "maxit"
   ]
  },
  {
   "cell_type": "code",
   "execution_count": null,
   "metadata": {
    "collapsed": true
   },
   "outputs": [],
   "source": [
    "Maskend = Mask_evolve[-1].eval()"
   ]
  },
  {
   "cell_type": "code",
   "execution_count": null,
   "metadata": {
    "collapsed": false
   },
   "outputs": [],
   "source": [
    "np.sum(Maskend)"
   ]
  },
  {
   "cell_type": "code",
   "execution_count": null,
   "metadata": {
    "collapsed": false
   },
   "outputs": [],
   "source": [
    "1620/(N*D)"
   ]
  },
  {
   "cell_type": "code",
   "execution_count": 28,
   "metadata": {
    "collapsed": false
   },
   "outputs": [
    {
     "data": {
      "text/plain": [
       "array([[  1.00000000e-05,   1.00000000e-05,   1.00000000e-05,\n",
       "          1.00000000e-05,   1.00000000e-05,   1.00000000e-05,\n",
       "          1.00000000e-05,   1.00000000e-05,   1.00000000e-05,\n",
       "          1.00000000e-05,   1.00000000e-05,   1.00000000e-05,\n",
       "          1.00000000e-05,   1.00000000e-05,   1.00000000e-05,\n",
       "          1.00000000e-05,   1.00000000e-05,   1.00000000e-05,\n",
       "          1.00000000e-05,   1.00000000e-05],\n",
       "       [  1.00000000e-05,   1.00000000e-05,   1.00000000e-05,\n",
       "          1.00000000e-05,   1.00000000e-05,   1.00000000e-05,\n",
       "          1.00000000e-05,   1.00000000e-05,   1.00000000e-05,\n",
       "          1.00000000e-05,   1.00000000e-05,   1.00000000e-05,\n",
       "          1.00000000e-05,   1.00000000e-05,   1.00000000e-05,\n",
       "          1.00000000e-05,   1.00000000e-05,   1.00000000e-05,\n",
       "          1.00000000e-05,   1.00000000e-05],\n",
       "       [  1.00000000e-05,   1.00000000e-05,   1.00000000e-05,\n",
       "          1.00000000e-05,   1.00000000e-05,   1.00000000e-05,\n",
       "          1.00000000e-05,   1.00000000e-05,   1.00000000e-05,\n",
       "          1.00000000e-05,   1.00000000e-05,   1.00000000e-05,\n",
       "          1.00000000e-05,   1.00000000e-05,   1.00000000e-05,\n",
       "          1.00000000e-05,   1.00000000e-05,   1.00000000e-05,\n",
       "          1.00000000e-05,   1.00000000e-05],\n",
       "       [  1.00000000e-05,   1.00000000e-05,   1.00000000e-05,\n",
       "          1.00000000e-05,   1.00000000e-05,   1.00000000e-05,\n",
       "          1.00000000e-05,   1.00000000e-05,   1.00000000e-05,\n",
       "          1.00000000e-05,   1.00000000e-05,   1.00000000e-05,\n",
       "          1.00000000e-05,   1.00000000e-05,   1.00000000e-05,\n",
       "          1.00000000e-05,   1.00000000e-05,   1.00000000e-05,\n",
       "          1.00000000e-05,   1.00000000e-05],\n",
       "       [  1.00000000e-05,   1.00000000e-05,   1.00000000e-05,\n",
       "          1.00000000e-05,   1.00000000e-05,   1.00000000e-05,\n",
       "          1.00000000e-05,   1.00000000e-05,   1.00000000e-05,\n",
       "          1.00000000e-05,   1.00000000e-05,   1.00000000e-05,\n",
       "          1.00000000e-05,   1.00000000e-05,   1.00000000e-05,\n",
       "          1.00000000e-05,   1.00000000e-05,   1.00000000e-05,\n",
       "          1.00000000e-05,   1.00000000e-05],\n",
       "       [  1.00000000e-05,   1.00000000e-05,   1.00000000e-05,\n",
       "          1.00000000e-05,   1.00000000e-05,   1.00000000e-05,\n",
       "          1.00000000e-05,   1.00000000e-05,   1.00000000e-05,\n",
       "          1.00000000e-05,   1.00000000e-05,   1.00000000e-05,\n",
       "          1.00000000e-05,   1.00000000e-05,   1.00000000e-05,\n",
       "          1.00000000e-05,   1.00000000e-05,   1.00000000e-05,\n",
       "          1.00000000e-05,   1.00000000e-05],\n",
       "       [  1.00000000e-05,   1.00000000e-05,   1.00000000e-05,\n",
       "          1.00000000e-05,   1.00000000e-05,   1.00000000e-05,\n",
       "          1.00000000e-05,   1.00000000e-05,   1.00000000e-05,\n",
       "          1.00000000e-05,   1.00000000e-05,   1.00000000e-05,\n",
       "          1.00000000e-05,   1.00000000e-05,   1.00000000e-05,\n",
       "          1.00000000e-05,   1.00000000e-05,   1.00000000e-05,\n",
       "          1.00000000e-05,   1.00000000e-05],\n",
       "       [  1.00000000e-05,   1.00000000e-05,   1.00000000e-05,\n",
       "          1.00000000e-05,   1.00000000e-05,   1.00000000e-05,\n",
       "          1.00000000e-05,   1.00000000e-05,   1.00000000e-05,\n",
       "          1.00000000e-05,   1.00000000e-05,   1.00000000e-05,\n",
       "          1.00000000e-05,   1.00000000e-05,   1.00000000e-05,\n",
       "          1.00000000e-05,   1.00000000e-05,   1.00000000e-05,\n",
       "          1.00000000e-05,   1.00000000e-05],\n",
       "       [  1.00000000e-05,   1.00000000e-05,   1.00000000e-05,\n",
       "          1.00000000e-05,   1.00000000e-05,   1.00000000e-05,\n",
       "          1.00000000e-05,   1.00000000e-05,   1.00000000e-05,\n",
       "          1.00000000e-05,   1.00000000e-05,   1.00000000e-05,\n",
       "          1.00000000e-05,   1.00000000e-05,   1.00000000e-05,\n",
       "          1.00000000e-05,   1.00000000e-05,   1.00000000e-05,\n",
       "          1.00000000e-05,   1.00000000e-05],\n",
       "       [  1.00000000e-05,   1.00000000e-05,   1.00000000e-05,\n",
       "          1.00000000e-05,   1.00000000e-05,   1.00000000e-05,\n",
       "          1.00000000e-05,   1.00000000e-05,   1.00000000e-05,\n",
       "          1.00000000e-05,   1.00000000e-05,   1.00000000e-05,\n",
       "          1.00000000e-05,   1.00000000e-05,   1.00000000e-05,\n",
       "          1.00000000e-05,   1.00000000e-05,   1.00000000e-05,\n",
       "          1.00000000e-05,   1.00000000e-05],\n",
       "       [  1.00000000e-05,   1.00000000e-05,   1.00000000e-05,\n",
       "          1.00000000e-05,   1.00000000e-05,   1.00000000e-05,\n",
       "          1.00000000e-05,   1.00000000e-05,   1.00000000e-05,\n",
       "          1.00000000e-05,   1.00000000e-05,   1.00000000e-05,\n",
       "          1.00000000e-05,   1.00000000e-05,   1.00000000e-05,\n",
       "          1.00000000e-05,   1.00000000e-05,   1.00000000e-05,\n",
       "          1.00000000e-05,   1.00000000e-05],\n",
       "       [  1.00000000e-05,   1.00000000e-05,   1.00000000e-05,\n",
       "          1.00000000e-05,   1.00000000e-05,   1.00000000e-05,\n",
       "          1.00000000e-05,   1.00000000e-05,   1.00000000e-05,\n",
       "          1.00000000e-05,   1.00000000e-05,   1.00000000e-05,\n",
       "          1.00000000e-05,   1.00000000e-05,   1.00000000e-05,\n",
       "          1.00000000e-05,   1.00000000e-05,   1.00000000e-05,\n",
       "          1.00000000e-05,   1.00000000e-05],\n",
       "       [  1.00000000e-05,   1.00000000e-05,   1.00000000e-05,\n",
       "          1.00000000e-05,   1.00000000e-05,   1.00000000e-05,\n",
       "          1.00000000e-05,   1.00000000e-05,   1.00000000e-05,\n",
       "          1.00000000e-05,   1.00000000e-05,   1.00000000e-05,\n",
       "          1.00000000e-05,   1.00000000e-05,   1.00000000e-05,\n",
       "          1.00000000e-05,   1.00000000e-05,   1.00000000e-05,\n",
       "          1.00000000e-05,   1.00000000e-05],\n",
       "       [  1.00000000e-05,   1.00000000e-05,   1.00000000e-05,\n",
       "          1.00000000e-05,   1.00000000e-05,   1.00000000e-05,\n",
       "          1.00000000e-05,   1.00000000e-05,   1.00000000e-05,\n",
       "          1.00000000e-05,   1.00000000e-05,   1.00000000e-05,\n",
       "          1.00000000e-05,   1.00000000e-05,   1.00000000e-05,\n",
       "          1.00000000e-05,   1.00000000e-05,   1.00000000e-05,\n",
       "          1.00000000e-05,   1.00000000e-05],\n",
       "       [  1.00000000e-05,   1.00000000e-05,   1.00000000e-05,\n",
       "          1.00000000e-05,   1.00000000e-05,   1.00000000e-05,\n",
       "          1.00000000e-05,   1.00000000e-05,   1.00000000e-05,\n",
       "          1.00000000e-05,   1.00000000e-05,   1.00000000e-05,\n",
       "          1.00000000e-05,   1.00000000e-05,   1.00000000e-05,\n",
       "          1.00000000e-05,   1.00000000e-05,   1.00000000e-05,\n",
       "          1.00000000e-05,   1.00000000e-05],\n",
       "       [  1.00000000e-05,   1.00000000e-05,   1.00000000e-05,\n",
       "          1.00000000e-05,   1.00000000e-05,   1.00000000e-05,\n",
       "          1.00000000e-05,   1.00000000e-05,   1.00000000e-05,\n",
       "          1.00000000e-05,   1.00000000e-05,   1.00000000e-05,\n",
       "          1.00000000e-05,   1.00000000e-05,   1.00000000e-05,\n",
       "          1.00000000e-05,   1.00000000e-05,   1.00000000e-05,\n",
       "          1.00000000e-05,   1.00000000e-05],\n",
       "       [  1.00000000e-05,   1.00000000e-05,   1.00000000e-05,\n",
       "          1.00000000e-05,   1.00000000e-05,   1.00000000e-05,\n",
       "          1.00000000e-05,   1.00000000e-05,   1.00000000e-05,\n",
       "          1.00000000e-05,   1.00000000e-05,   1.00000000e-05,\n",
       "          1.00000000e-05,   1.00000000e-05,   1.00000000e-05,\n",
       "          1.00000000e-05,   1.00000000e-05,   1.00000000e-05,\n",
       "          1.00000000e-05,   1.00000000e-05],\n",
       "       [  1.00000000e-05,   1.00000000e-05,   1.00000000e-05,\n",
       "          1.00000000e-05,   1.00000000e-05,   1.00000000e-05,\n",
       "          1.00000000e-05,   1.00000000e-05,   1.00000000e-05,\n",
       "          1.00000000e-05,   1.00000000e-05,   1.00000000e-05,\n",
       "          1.00000000e-05,   1.00000000e-05,   1.00000000e-05,\n",
       "          1.00000000e-05,   1.00000000e-05,   1.00000000e-05,\n",
       "          1.00000000e-05,   1.00000000e-05],\n",
       "       [  1.00000000e-05,   1.00000000e-05,   1.00000000e-05,\n",
       "          1.00000000e-05,   1.00000000e-05,   1.00000000e-05,\n",
       "          1.00000000e-05,   1.00000000e-05,   1.00000000e-05,\n",
       "          1.00000000e-05,   1.00000000e-05,   1.00000000e-05,\n",
       "          1.00000000e-05,   1.00000000e-05,   1.00000000e-05,\n",
       "          1.00000000e-05,   1.00000000e-05,   1.00000000e-05,\n",
       "          1.00000000e-05,   1.00000000e-05],\n",
       "       [  1.00000000e-05,   1.00000000e-05,   1.00000000e-05,\n",
       "          1.00000000e-05,   1.00000000e-05,   1.00000000e-05,\n",
       "          1.00000000e-05,   1.00000000e-05,   1.00000000e-05,\n",
       "          1.00000000e-05,   1.00000000e-05,   1.00000000e-05,\n",
       "          1.00000000e-05,   1.00000000e-05,   1.00000000e-05,\n",
       "          1.00000000e-05,   1.00000000e-05,   1.00000000e-05,\n",
       "          1.00000000e-05,   1.00000000e-05],\n",
       "       [  1.00000000e-05,   1.00000000e-05,   1.00000000e-05,\n",
       "          1.00000000e-05,   1.00000000e-05,   1.00000000e-05,\n",
       "          1.00000000e-05,   1.00000000e-05,   1.00000000e-05,\n",
       "          1.00000000e-05,   1.00000000e-05,   1.00000000e-05,\n",
       "          1.00000000e-05,   1.00000000e-05,   1.00000000e-05,\n",
       "          1.00000000e-05,   1.00000000e-05,   1.00000000e-05,\n",
       "          1.00000000e-05,   1.00000000e-05],\n",
       "       [  1.00000000e-05,   1.00000000e-05,   1.00000000e-05,\n",
       "          1.00000000e-05,   1.00000000e-05,   1.00000000e-05,\n",
       "          1.00000000e-05,   1.00000000e-05,   1.00000000e-05,\n",
       "          1.00000000e-05,   1.00000000e-05,   1.00000000e-05,\n",
       "          1.00000000e-05,   1.00000000e-05,   1.00000000e-05,\n",
       "          1.00000000e-05,   1.00000000e-05,   1.00000000e-05,\n",
       "          1.00000000e-05,   1.00000000e-05],\n",
       "       [  1.00000000e-05,   1.00000000e-05,   1.00000000e-05,\n",
       "          1.00000000e-05,   1.00000000e-05,   1.00000000e-05,\n",
       "          1.00000000e-05,   1.00000000e-05,   1.00000000e-05,\n",
       "          1.00000000e-05,   1.00000000e-05,   1.00000000e-05,\n",
       "          1.00000000e-05,   1.00000000e-05,   1.00000000e-05,\n",
       "          1.00000000e-05,   1.00000000e-05,   1.00000000e-05,\n",
       "          1.00000000e-05,   1.00000000e-05],\n",
       "       [  1.00000000e-05,   1.00000000e-05,   1.00000000e-05,\n",
       "          1.00000000e-05,   1.00000000e-05,   1.00000000e-05,\n",
       "          1.00000000e-05,   1.00000000e-05,   1.00000000e-05,\n",
       "          1.00000000e-05,   1.00000000e-05,   1.00000000e-05,\n",
       "          1.00000000e-05,   1.00000000e-05,   1.00000000e-05,\n",
       "          1.00000000e-05,   1.00000000e-05,   1.00000000e-05,\n",
       "          1.00000000e-05,   1.00000000e-05],\n",
       "       [  1.00000000e-05,   1.00000000e-05,   1.00000000e-05,\n",
       "          1.00000000e-05,   1.00000000e-05,   1.00000000e-05,\n",
       "          1.00000000e-05,   1.00000000e-05,   1.00000000e-05,\n",
       "          1.00000000e-05,   1.00000000e-05,   1.00000000e-05,\n",
       "          1.00000000e-05,   1.00000000e-05,   1.00000000e-05,\n",
       "          1.00000000e-05,   1.00000000e-05,   1.00000000e-05,\n",
       "          1.00000000e-05,   1.00000000e-05],\n",
       "       [  1.00000000e-05,   1.00000000e-05,   1.00000000e-05,\n",
       "          1.00000000e-05,   1.00000000e-05,   1.00000000e-05,\n",
       "          1.00000000e-05,   1.00000000e-05,   1.00000000e-05,\n",
       "          1.00000000e-05,   1.00000000e-05,   1.00000000e-05,\n",
       "          1.00000000e-05,   1.00000000e-05,   1.00000000e-05,\n",
       "          1.00000000e-05,   1.00000000e-05,   1.00000000e-05,\n",
       "          1.00000000e-05,   1.00000000e-05],\n",
       "       [  1.00000000e-05,   1.00000000e-05,   1.00000000e-05,\n",
       "          1.00000000e-05,   1.00000000e-05,   1.00000000e-05,\n",
       "          1.00000000e-05,   1.00000000e-05,   1.00000000e-05,\n",
       "          1.00000000e-05,   1.00000000e-05,   1.00000000e-05,\n",
       "          1.00000000e-05,   1.00000000e-05,   1.00000000e-05,\n",
       "          1.00000000e-05,   1.00000000e-05,   1.00000000e-05,\n",
       "          1.00000000e-05,   1.00000000e-05],\n",
       "       [  1.00000000e-05,   1.00000000e-05,   1.00000000e-05,\n",
       "          1.00000000e-05,   1.00000000e-05,   1.00000000e-05,\n",
       "          1.00000000e-05,   1.00000000e-05,   1.00000000e-05,\n",
       "          1.00000000e-05,   1.00000000e-05,   1.00000000e-05,\n",
       "          1.00000000e-05,   1.00000000e-05,   1.00000000e-05,\n",
       "          1.00000000e-05,   1.00000000e-05,   1.00000000e-05,\n",
       "          1.00000000e-05,   1.00000000e-05],\n",
       "       [  1.00000000e-05,   1.00000000e-05,   1.00000000e-05,\n",
       "          1.00000000e-05,   1.00000000e-05,   1.00000000e-05,\n",
       "          1.00000000e-05,   1.00000000e-05,   1.00000000e-05,\n",
       "          1.00000000e-05,   1.00000000e-05,   1.00000000e-05,\n",
       "          1.00000000e-05,   1.00000000e-05,   1.00000000e-05,\n",
       "          1.00000000e-05,   1.00000000e-05,   1.00000000e-05,\n",
       "          1.00000000e-05,   1.00000000e-05],\n",
       "       [  1.00000000e-05,   1.00000000e-05,   1.00000000e-05,\n",
       "          1.00000000e-05,   1.00000000e-05,   1.00000000e-05,\n",
       "          1.00000000e-05,   1.00000000e-05,   1.00000000e-05,\n",
       "          1.00000000e-05,   1.00000000e-05,   1.00000000e-05,\n",
       "          1.00000000e-05,   1.00000000e-05,   1.00000000e-05,\n",
       "          1.00000000e-05,   1.00000000e-05,   1.00000000e-05,\n",
       "          1.00000000e-05,   1.00000000e-05],\n",
       "       [  1.00000000e-05,   1.00000000e-05,   1.00000000e-05,\n",
       "          1.00000000e-05,   1.00000000e-05,   1.00000000e-05,\n",
       "          1.00000000e-05,   1.00000000e-05,   1.00000000e-05,\n",
       "          1.00000000e-05,   1.00000000e-05,   1.00000000e-05,\n",
       "          1.00000000e-05,   1.00000000e-05,   1.00000000e-05,\n",
       "          1.00000000e-05,   1.00000000e-05,   1.00000000e-05,\n",
       "          1.00000000e-05,   1.00000000e-05],\n",
       "       [  1.00000000e-05,   1.00000000e-05,   1.00000000e-05,\n",
       "          1.00000000e-05,   1.00000000e-05,   1.00000000e-05,\n",
       "          1.00000000e-05,   1.00000000e-05,   1.00000000e-05,\n",
       "          1.00000000e-05,   1.00000000e-05,   1.00000000e-05,\n",
       "          1.00000000e-05,   1.00000000e-05,   1.00000000e-05,\n",
       "          1.00000000e-05,   1.00000000e-05,   1.00000000e-05,\n",
       "          1.00000000e-05,   1.00000000e-05],\n",
       "       [  1.00000000e-05,   1.00000000e-05,   1.00000000e-05,\n",
       "          1.00000000e-05,   1.00000000e-05,   1.00000000e-05,\n",
       "          1.00000000e-05,   1.00000000e-05,   1.00000000e-05,\n",
       "          1.00000000e-05,   1.00000000e-05,   1.00000000e-05,\n",
       "          1.00000000e-05,   1.00000000e-05,   1.00000000e-05,\n",
       "          1.00000000e-05,   1.00000000e-05,   1.00000000e-05,\n",
       "          1.00000000e-05,   1.00000000e-05],\n",
       "       [  1.00000000e-05,   1.00000000e-05,   1.00000000e-05,\n",
       "          1.00000000e-05,   1.00000000e-05,   1.00000000e-05,\n",
       "          1.00000000e-05,   1.00000000e-05,   1.00000000e-05,\n",
       "          1.00000000e-05,   1.00000000e-05,   1.00000000e-05,\n",
       "          1.00000000e-05,   1.00000000e-05,   1.00000000e-05,\n",
       "          1.00000000e-05,   1.00000000e-05,   1.00000000e-05,\n",
       "          1.00000000e-05,   1.00000000e-05],\n",
       "       [  1.00000000e-05,   1.00000000e-05,   1.00000000e-05,\n",
       "          1.00000000e-05,   1.00000000e-05,   1.00000000e-05,\n",
       "          1.00000000e-05,   1.00000000e-05,   1.00000000e-05,\n",
       "          1.00000000e-05,   1.00000000e-05,   1.00000000e-05,\n",
       "          1.00000000e-05,   1.00000000e-05,   1.00000000e-05,\n",
       "          1.00000000e-05,   1.00000000e-05,   1.00000000e-05,\n",
       "          1.00000000e-05,   1.00000000e-05],\n",
       "       [  1.00000000e-05,   1.00000000e-05,   1.00000000e-05,\n",
       "          1.00000000e-05,   1.00000000e-05,   1.00000000e-05,\n",
       "          1.00000000e-05,   1.00000000e-05,   1.00000000e-05,\n",
       "          1.00000000e-05,   1.00000000e-05,   1.00000000e-05,\n",
       "          1.00000000e-05,   1.00000000e-05,   1.00000000e-05,\n",
       "          1.00000000e-05,   1.00000000e-05,   1.00000000e-05,\n",
       "          1.00000000e-05,   1.00000000e-05],\n",
       "       [  1.00000000e-05,   1.00000000e-05,   1.00000000e-05,\n",
       "          1.00000000e-05,   1.00000000e-05,   1.00000000e-05,\n",
       "          1.00000000e-05,   1.00000000e-05,   1.00000000e-05,\n",
       "          1.00000000e-05,   1.00000000e-05,   1.00000000e-05,\n",
       "          1.00000000e-05,   1.00000000e-05,   1.00000000e-05,\n",
       "          1.00000000e-05,   1.00000000e-05,   1.00000000e-05,\n",
       "          1.00000000e-05,   1.00000000e-05],\n",
       "       [  1.00000000e-05,   1.00000000e-05,   1.00000000e-05,\n",
       "          1.00000000e-05,   1.00000000e-05,   1.00000000e-05,\n",
       "          1.00000000e-05,   1.00000000e-05,   1.00000000e-05,\n",
       "          1.00000000e-05,   1.00000000e-05,   1.00000000e-05,\n",
       "          1.00000000e-05,   1.00000000e-05,   1.00000000e-05,\n",
       "          1.00000000e-05,   1.00000000e-05,   1.00000000e-05,\n",
       "          1.00000000e-05,   1.00000000e-05],\n",
       "       [  1.00000000e-05,   1.00000000e-05,   1.00000000e-05,\n",
       "          1.00000000e-05,   1.00000000e-05,   1.00000000e-05,\n",
       "          1.00000000e-05,   1.00000000e-05,   1.00000000e-05,\n",
       "          1.00000000e-05,   1.00000000e-05,   1.00000000e-05,\n",
       "          1.00000000e-05,   1.00000000e-05,   1.00000000e-05,\n",
       "          1.00000000e-05,   1.00000000e-05,   1.00000000e-05,\n",
       "          1.00000000e-05,   1.00000000e-05],\n",
       "       [  1.00000000e-05,   1.00000000e-05,   1.00000000e-05,\n",
       "          1.00000000e-05,   1.00000000e-05,   1.00000000e-05,\n",
       "          1.00000000e-05,   1.00000000e-05,   1.00000000e-05,\n",
       "          1.00000000e-05,   1.00000000e-05,   1.00000000e-05,\n",
       "          1.00000000e-05,   1.00000000e-05,   1.00000000e-05,\n",
       "          1.00000000e-05,   1.00000000e-05,   1.00000000e-05,\n",
       "          1.00000000e-05,   1.00000000e-05],\n",
       "       [  1.00000000e-05,   1.00000000e-05,   1.00000000e-05,\n",
       "          1.00000000e-05,   1.00000000e-05,   1.00000000e-05,\n",
       "          1.00000000e-05,   1.00000000e-05,   1.00000000e-05,\n",
       "          1.00000000e-05,   1.00000000e-05,   1.00000000e-05,\n",
       "          1.00000000e-05,   1.00000000e-05,   1.00000000e-05,\n",
       "          1.00000000e-05,   1.00000000e-05,   1.00000000e-05,\n",
       "          1.00000000e-05,   1.00000000e-05],\n",
       "       [  1.00000000e-05,   1.00000000e-05,   1.00000000e-05,\n",
       "          1.00000000e-05,   1.00000000e-05,   1.00000000e-05,\n",
       "          1.00000000e-05,   1.00000000e-05,   1.00000000e-05,\n",
       "          1.00000000e-05,   1.00000000e-05,   1.00000000e-05,\n",
       "          1.00000000e-05,   1.00000000e-05,   1.00000000e-05,\n",
       "          1.00000000e-05,   1.00000000e-05,   1.00000000e-05,\n",
       "          1.00000000e-05,   1.00000000e-05],\n",
       "       [  1.00000000e-05,   1.00000000e-05,   1.00000000e-05,\n",
       "          1.00000000e-05,   1.00000000e-05,   1.00000000e-05,\n",
       "          1.00000000e-05,   1.00000000e-05,   1.00000000e-05,\n",
       "          1.00000000e-05,   1.00000000e-05,   1.00000000e-05,\n",
       "          1.00000000e-05,   1.00000000e-05,   1.00000000e-05,\n",
       "          1.00000000e-05,   1.00000000e-05,   1.00000000e-05,\n",
       "          1.00000000e-05,   1.00000000e-05],\n",
       "       [  1.00000000e-05,   1.00000000e-05,   1.00000000e-05,\n",
       "          1.00000000e-05,   1.00000000e-05,   1.00000000e-05,\n",
       "          1.00000000e-05,   1.00000000e-05,   1.00000000e-05,\n",
       "          1.00000000e-05,   1.00000000e-05,   1.00000000e-05,\n",
       "          1.00000000e-05,   1.00000000e-05,   1.00000000e-05,\n",
       "          1.00000000e-05,   1.00000000e-05,   1.00000000e-05,\n",
       "          1.00000000e-05,   1.00000000e-05],\n",
       "       [  1.00000000e-05,   1.00000000e-05,   1.00000000e-05,\n",
       "          1.00000000e-05,   1.00000000e-05,   1.00000000e-05,\n",
       "          1.00000000e-05,   1.00000000e-05,   1.00000000e-05,\n",
       "          1.00000000e-05,   1.00000000e-05,   1.00000000e-05,\n",
       "          1.00000000e-05,   1.00000000e-05,   1.00000000e-05,\n",
       "          1.00000000e-05,   1.00000000e-05,   1.00000000e-05,\n",
       "          1.00000000e-05,   1.00000000e-05],\n",
       "       [  1.00000000e-05,   1.00000000e-05,   1.00000000e-05,\n",
       "          1.00000000e-05,   1.00000000e-05,   1.00000000e-05,\n",
       "          1.00000000e-05,   1.00000000e-05,   1.00000000e-05,\n",
       "          1.00000000e-05,   1.00000000e-05,   1.00000000e-05,\n",
       "          1.00000000e-05,   1.00000000e-05,   1.00000000e-05,\n",
       "          1.00000000e-05,   1.00000000e-05,   1.00000000e-05,\n",
       "          1.00000000e-05,   1.00000000e-05],\n",
       "       [  1.00000000e-05,   1.00000000e-05,   1.00000000e-05,\n",
       "          1.00000000e-05,   1.00000000e-05,   1.00000000e-05,\n",
       "          1.00000000e-05,   1.00000000e-05,   1.00000000e-05,\n",
       "          1.00000000e-05,   1.00000000e-05,   1.00000000e-05,\n",
       "          1.00000000e-05,   1.00000000e-05,   1.00000000e-05,\n",
       "          1.00000000e-05,   1.00000000e-05,   1.00000000e-05,\n",
       "          1.00000000e-05,   1.00000000e-05],\n",
       "       [  1.00000000e-05,   1.00000000e-05,   1.00000000e-05,\n",
       "          1.00000000e-05,   1.00000000e-05,   1.00000000e-05,\n",
       "          1.00000000e-05,   1.00000000e-05,   1.00000000e-05,\n",
       "          1.00000000e-05,   1.00000000e-05,   1.00000000e-05,\n",
       "          1.00000000e-05,   1.00000000e-05,   1.00000000e-05,\n",
       "          1.00000000e-05,   1.00000000e-05,   1.00000000e-05,\n",
       "          1.00000000e-05,   1.00000000e-05],\n",
       "       [  1.00000000e-05,   1.00000000e-05,   1.00000000e-05,\n",
       "          1.00000000e-05,   1.00000000e-05,   1.00000000e-05,\n",
       "          1.00000000e-05,   1.00000000e-05,   1.00000000e-05,\n",
       "          1.00000000e-05,   1.00000000e-05,   1.00000000e-05,\n",
       "          1.00000000e-05,   1.00000000e-05,   1.00000000e-05,\n",
       "          1.00000000e-05,   1.00000000e-05,   1.00000000e-05,\n",
       "          1.00000000e-05,   1.00000000e-05],\n",
       "       [  1.00000000e-05,   1.00000000e-05,   1.00000000e-05,\n",
       "          1.00000000e-05,   1.00000000e-05,   1.00000000e-05,\n",
       "          1.00000000e-05,   1.00000000e-05,   1.00000000e-05,\n",
       "          1.00000000e-05,   1.00000000e-05,   1.00000000e-05,\n",
       "          1.00000000e-05,   1.00000000e-05,   1.00000000e-05,\n",
       "          1.00000000e-05,   1.00000000e-05,   1.00000000e-05,\n",
       "          1.00000000e-05,   1.00000000e-05]])"
      ]
     },
     "execution_count": 28,
     "metadata": {},
     "output_type": "execute_result"
    }
   ],
   "source": [
    "W.eval()"
   ]
  },
  {
   "cell_type": "code",
   "execution_count": 27,
   "metadata": {
    "collapsed": false,
    "scrolled": false
   },
   "outputs": [
    {
     "data": {
      "text/plain": [
       "array([[  5.96184544e-01,   2.00000000e-09,   2.00000000e-09, ...,\n",
       "          2.00000000e-09,   2.00000000e-09,   2.00000000e-09],\n",
       "       [  2.00000000e-09,   5.96184544e-01,   2.00000000e-09, ...,\n",
       "          2.00000000e-09,   2.00000000e-09,   2.00000000e-09],\n",
       "       [  2.00000000e-09,   2.00000000e-09,   5.96184544e-01, ...,\n",
       "          2.00000000e-09,   2.00000000e-09,   2.00000000e-09],\n",
       "       ..., \n",
       "       [  2.00000000e-09,   2.00000000e-09,   2.00000000e-09, ...,\n",
       "          5.96184544e-01,   2.00000000e-09,   2.00000000e-09],\n",
       "       [  2.00000000e-09,   2.00000000e-09,   2.00000000e-09, ...,\n",
       "          2.00000000e-09,   5.96184544e-01,   2.00000000e-09],\n",
       "       [  2.00000000e-09,   2.00000000e-09,   2.00000000e-09, ...,\n",
       "          2.00000000e-09,   2.00000000e-09,   5.96184544e-01]])"
      ]
     },
     "execution_count": 27,
     "metadata": {},
     "output_type": "execute_result"
    }
   ],
   "source": [
    "Cov.eval()"
   ]
  },
  {
   "cell_type": "code",
   "execution_count": null,
   "metadata": {
    "collapsed": false,
    "scrolled": true
   },
   "outputs": [],
   "source": [
    "covnp"
   ]
  }
 ],
 "metadata": {
  "kernelspec": {
   "display_name": "Python 3",
   "language": "python",
   "name": "python3"
  },
  "language_info": {
   "codemirror_mode": {
    "name": "ipython",
    "version": 3
   },
   "file_extension": ".py",
   "mimetype": "text/x-python",
   "name": "python",
   "nbconvert_exporter": "python",
   "pygments_lexer": "ipython3",
   "version": "3.5.2"
  }
 },
 "nbformat": 4,
 "nbformat_minor": 0
}
